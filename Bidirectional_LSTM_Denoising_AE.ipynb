{
  "nbformat": 4,
  "nbformat_minor": 0,
  "metadata": {
    "colab": {
      "private_outputs": true,
      "provenance": [],
      "mount_file_id": "1TQ2iz-ZuzfSpAxl_g4bzgk6jd6bGnrHQ",
      "authorship_tag": "ABX9TyPTS3Tmop272V5avnW8XrwF",
      "include_colab_link": true
    },
    "kernelspec": {
      "name": "python3",
      "display_name": "Python 3"
    },
    "language_info": {
      "name": "python"
    },
    "accelerator": "GPU",
    "gpuClass": "standard"
  },
  "cells": [
    {
      "cell_type": "markdown",
      "metadata": {
        "id": "view-in-github",
        "colab_type": "text"
      },
      "source": [
        "<a href=\"https://colab.research.google.com/github/JHyunjun/TF2.0_AutoEncoder-with-LSTM/blob/main/Bidirectional_LSTM_Denoising_AE.ipynb\" target=\"_parent\"><img src=\"https://colab.research.google.com/assets/colab-badge.svg\" alt=\"Open In Colab\"/></a>"
      ]
    },
    {
      "cell_type": "code",
      "execution_count": null,
      "metadata": {
        "id": "qKjxu-QO2iED"
      },
      "outputs": [],
      "source": [
        "# Created by Hyunjun,JANG\n",
        "# limitsinx.tistory.com\n",
        "# Last revision date : 2023.03.08\n",
        "\n",
        "from sklearn.preprocessing import StandardScaler, MinMaxScaler\n",
        "import tensorflow as tf\n",
        "import matplotlib.pyplot as plt\n",
        "import pandas as pd\n",
        "import numpy as np\n",
        "from keras.callbacks import EarlyStopping, Callback\n",
        "from tensorflow.keras.layers import Bidirectional, LSTM, Dense\n",
        "\n",
        "xy_train = np.loadtxt('/content/drive/MyDrive/Colab Notebooks/LSTM/train_v.txt',delimiter=',',dtype=np.float32) #5808\n",
        "xy_test = np.loadtxt('/content/drive/MyDrive/Colab Notebooks/LSTM/test_v.txt',delimiter=',',dtype=np.float32) #10883\n",
        "xy_train = np.delete(xy_train ,3, axis = 1)\n",
        "xy_test = np.delete(xy_test ,3, axis = 1)\n",
        "\n",
        "start_test = 1000\n",
        "end_test = 8000\n",
        "xy_test_1 = xy_test[:start_test,:]\n",
        "xy_test_1n2 = xy_test[start_test:end_test,:]\n",
        "xy_test_2 = xy_test[end_test:,:]\n",
        "\n",
        "xy_train = np.concatenate((xy_train, xy_test_1n2), axis = 0)\n",
        "xy_test = np.concatenate((xy_test_1, xy_test_2), axis = 0)\n"
      ]
    },
    {
      "cell_type": "code",
      "source": [
        "import numpy as np\n",
        "\n",
        "def add_awgn_noise(signal, snr):\n",
        "    signal_power = np.mean(np.square(signal))\n",
        "    noise_power = signal_power / (10 ** (snr / 10))\n",
        "    noise = np.random.normal(0, np.sqrt(noise_power), signal.shape)\n",
        "    return signal + noise\n",
        "\n",
        "signal_value = np.ones(5)\n",
        "snr_values = [5, 10, 15, 20, 25, 30]\n",
        "\n",
        "for snr in snr_values:\n",
        "    noisy_value = add_awgn_noise(signal_value, snr)\n",
        "    print(f\"SNR {snr} dB에 대한 값: {noisy_value}\")"
      ],
      "metadata": {
        "id": "GLDYF0TJASUb"
      },
      "execution_count": null,
      "outputs": []
    },
    {
      "cell_type": "code",
      "source": [
        "from google.colab import drive\n",
        "drive.mount('/content/drive')"
      ],
      "metadata": {
        "id": "wSdBJ9LyyurI"
      },
      "execution_count": null,
      "outputs": []
    },
    {
      "cell_type": "code",
      "source": [
        "def add_awgn_noise(x, snr_db) : \n",
        "  snr_ratio = 10 ** (snr_db / 10)\n",
        "  signal_power = np.mean(x ** 2)\n",
        "  noise_power = signal_power / snr_ratio\n",
        "  noise = np.random.normal(0, np.sqrt(noise_power), x.shape)\n",
        "  return x + noise\n",
        "\n",
        "SNR_DB = 30\n",
        "\n",
        "class AWGNCallback(Callback) : \n",
        "  def __init__(self, snr_db) : \n",
        "    self.snr_db = snr_db\n",
        "    \n",
        "  def on_epoch_begin(self, epoch, logs = None) : \n",
        "    global trainX\n",
        "    trainX_noisy = add_awgn_noise(trainX, self.snr_db)\n",
        "    trainX = trainX_noisy\n",
        "\n",
        "# Data Sequence Setting\n",
        "TIME_STEPS = 5\n",
        "seq_length = TIME_STEPS\n",
        "\n",
        "train_set = np.copy(xy_train)\n",
        "test_set = np.copy(xy_test)\n",
        "\n",
        "#Build Dataset with Data Augmentation(Zero Aug)\n",
        "def build_dataset(time_series, seq_length) : \n",
        "  dataX = []\n",
        "  dataY = []\n",
        "  augmented_data = []\n",
        "  num_samples = len(time_series) - seq_length + 1\n",
        "  for i in range(0, len(time_series) -seq_length) : \n",
        "    x = time_series[i:i+seq_length, :]\n",
        "    y = time_series[i:i+seq_length, :]\n",
        "    \n",
        "    x_noisy = add_awgn_noise(x, snr)\n",
        "    y_noisy = add_awgn_noise(y, snr)\n",
        "\n",
        "    dataX.append(x_noisy)\n",
        "    dataY.append(y_noisy)\n",
        "\n",
        "  return np.array(dataX), np.array(dataY)\n",
        "\n",
        "trainX, trainY = build_dataset(train_set, seq_length)\n",
        "testX, testY = build_dataset(test_set, seq_length)\n",
        "\n",
        "print(trainX.shape, trainY.shape) #(# of datas, Time_steps, features)\n",
        "\n",
        "INPUT_DIM = trainX.shape[2]"
      ],
      "metadata": {
        "id": "lgOLVDbs24yl"
      },
      "execution_count": null,
      "outputs": []
    },
    {
      "cell_type": "code",
      "source": [
        "def MinMaxScaler(data) : # Normal Std\n",
        "  numerator = data - np.min(data,0)\n",
        "  denominator = np.max(data,0) - np.min(data,0)\n",
        "\n",
        "  return numerator / (denominator + 1e-7)\n",
        "\n",
        "def origin_minmax(data) : # HJ STYLE\n",
        "  arr_max = np.zeros(data.shape[1])\n",
        "  arr_min = np.zeros(data.shape[1])\n",
        "\n",
        "  for i in range(data.shape[1]) : \n",
        "    max = np.max(data[:,i])\n",
        "    min = np.min(data[:,i])\n",
        "    arr_max[i] = max\n",
        "    arr_min[i] = min\n",
        "    pass\n",
        "  return arr_max, arr_min\n",
        "\n",
        "arr_max_train, arr_min_train = origin_minmax(xy_train)\n",
        "arr_max_test, arr_min_test = origin_minmax(xy_test)\n",
        "arr_max_total = arr_max_train\n",
        "arr_min_total = arr_min_train\n",
        "print(arr_max_train, arr_min_train)\n",
        "print(arr_max_test, arr_min_test)\n",
        "\n",
        "for i in range(xy_train.shape[1]) : \n",
        "  print(i)\n",
        "  if(arr_max_train[i] > arr_max_test[i]) : \n",
        "    arr_max_total[i] = arr_max_train[i]\n",
        "  else : \n",
        "    arr_max_total[i] = arr_max_test[i]\n",
        "  pass\n",
        "\n",
        "for i in range(xy_train.shape[1]) : \n",
        "  if(arr_min_train[i] < arr_min_test[i]) : \n",
        "    arr_min_total[i] = arr_min_train[i]\n",
        "  else : \n",
        "    arr_min_total[i] = arr_min_test[i]\n",
        "  pass\n",
        "\n",
        "print(arr_max_total, arr_min_total)\n",
        "\n",
        "def HJ_MinMaxScaler(data) : \n",
        "  for i in range(data.shape[1]) : \n",
        "    numerator = data[:,i] - arr_min_total[i]\n",
        "    denominator = arr_max_total[i] - arr_min_total[i]\n",
        "    data[:,i] = numerator / (denominator + 1e-7)\n",
        "    \n",
        "  return data\n",
        "\n",
        "def HJ_backMinMax(data) : \n",
        "  for i in range(data.shape[1]) : \n",
        "    data[:,i] = data[:,i] * (arr_max_total[i] - arr_min_total[i]) + arr_min_total[i]\n",
        "\n",
        "  return data\n",
        "\n",
        "xy_train_scale = HJ_MinMaxScaler(xy_train)\n",
        "xy_test_scale = HJ_MinMaxScaler(xy_test)"
      ],
      "metadata": {
        "id": "Eyr6OHpaJfCN"
      },
      "execution_count": null,
      "outputs": []
    },
    {
      "cell_type": "code",
      "source": [
        "# Designing the Model\n",
        "\n",
        "LSTM_UNITS = 32\n",
        "\n",
        "def Bidirectional_LSTM_AE() : \n",
        "  # Encoding\n",
        "  inputs = tf.keras.Input(shape = (TIME_STEPS, INPUT_DIM, ))\n",
        "  encoder = tf.keras.layers.Bidirectional(LSTM(LSTM_UNITS, return_sequences = True))(inputs) #(, Time_STEPS, UNITS*2)\n",
        "  encoder = tf.keras.layers.Bidirectional(LSTM(int(LSTM_UNITS/4), return_sequences = True))(encoder) #(, UNITS*2)\n",
        "  decoder = tf.keras.layers.Bidirectional(LSTM(int(LSTM_UNITS/4), return_sequences = True))(encoder)\n",
        "  decoder = tf.keras.layers.Bidirectional(LSTM(LSTM_UNITS, return_sequences = True))(decoder)\n",
        "  output = tf.keras.layers.Dense(INPUT_DIM, activation = 'sigmoid')(decoder)\n",
        "  model = tf.keras.Model(inputs = [inputs], outputs = output)\n",
        "\n",
        "  return model"
      ],
      "metadata": {
        "id": "bsQOTPAd265u"
      },
      "execution_count": null,
      "outputs": []
    },
    {
      "cell_type": "code",
      "source": [
        "model = Bidirectional_LSTM_AE()\n",
        "model.summary()"
      ],
      "metadata": {
        "id": "22pBPkot3440"
      },
      "execution_count": null,
      "outputs": []
    },
    {
      "cell_type": "code",
      "source": [
        "5#RUN\n",
        "EarlyStopping(monitor = 'loss', min_delta = 0, patience = 3,  mode = 'auto')\n",
        "early_stopping = EarlyStopping()\n",
        "awgn_callback = AWGNCallback(SNR_DB)\n",
        "\n",
        "modelhj = Bidirectional_LSTM_AE()\n",
        "modelhj.compile(optimizer = 'adam', loss = 'mse')\n",
        "modelhj.fit(trainX, trainY, epochs = 100, batch_size = 32, callbacks = [early_stopping, awgn_callback])"
      ],
      "metadata": {
        "id": "Qx0PLgQWHusL"
      },
      "execution_count": null,
      "outputs": []
    },
    {
      "cell_type": "code",
      "source": [
        "# Training\n",
        "trainY_predict = modelhj.predict(trainX)\n",
        "print(trainY_predict.shape)\n",
        "trainY_predict_2 = trainY_predict.reshape(-1, trainY_predict.shape[-1])\n",
        "print(trainY_predict_2.shape)\n",
        "trainY_predict_back = HJ_backMinMax(trainY_predict_2)\n",
        "trainY_back_1 = trainY.reshape(-1, trainY.shape[-1])\n",
        "trainY_back = HJ_backMinMax(trainY_back_1)\n"
      ],
      "metadata": {
        "id": "xeLmKDq7H6nZ"
      },
      "execution_count": null,
      "outputs": []
    },
    {
      "cell_type": "code",
      "source": [
        "#Plotting Training data\n",
        "\n",
        "plt.figure(figsize = (12,10))\n",
        "plt.subplot(2,2,1)\n",
        "plt.plot(trainY_back[seq_length:,0], color = 'blue')\n",
        "plt.plot(trainY_predict_back[:,0], color = 'red')\n",
        "plt.legend(['Real Current','Predicted Current'])\n",
        "\n",
        "plt.subplot(2,2,2)\n",
        "plt.plot(trainY_back[seq_length:,1], color = 'blue')\n",
        "plt.plot(trainY_predict_back[:,1], color = 'red')\n",
        "plt.legend(['Real Temperature','Predicted Temperature'])\n",
        "\n",
        "plt.subplot(2,2,3)\n",
        "plt.plot(trainY_back[seq_length:,2], color = 'blue')\n",
        "plt.plot(trainY_predict_back[:,2], color = 'red')\n",
        "plt.legend(['Real SOC','Predicted SOC'])\n",
        "\n",
        "plt.subplot(2,2,4)\n",
        "plt.plot(trainY_back[seq_length:,3], color = 'blue')\n",
        "plt.plot(trainY_predict_back[:,3], color = 'red')\n",
        "plt.legend(['Real Voltage','Predicted Voltage'])"
      ],
      "metadata": {
        "id": "PonEE39vH-uB"
      },
      "execution_count": null,
      "outputs": []
    },
    {
      "cell_type": "code",
      "source": [
        "# Testing\n",
        "testY_predict = modelhj.predict(testX)\n",
        "testY_predict_2 = testY_predict.reshape(-1, testY_predict.shape[-1])\n",
        "testY_predict_back = HJ_backMinMax(testY_predict_2)\n",
        "testY_back_1 = testY.reshape(-1, testY.shape[-1])\n",
        "testY_back = HJ_backMinMax(testY_back_1)"
      ],
      "metadata": {
        "id": "dKjDxLHxIZMj"
      },
      "execution_count": null,
      "outputs": []
    },
    {
      "cell_type": "code",
      "source": [
        "#Plotting Test Data\n",
        "import matplotlib.pyplot as plt\n",
        "\n",
        "plt.figure(figsize = (10,5))\n",
        "plt.subplot(2,2,1)\n",
        "plt.plot(testY_back[seq_length:,0], color = 'blue')\n",
        "plt.plot(testY_predict_back[:,0], color = 'red')\n",
        "plt.legend(['Real Current','Predicted Current'])\n",
        "\n",
        "plt.subplot(2,2,2)\n",
        "plt.plot(testY_back[seq_length:,1], color = 'blue')\n",
        "plt.plot(testY_predict_back[:,1], color = 'red')\n",
        "plt.legend(['Real Temperature','Predicted Temperature'])\n",
        "\n",
        "plt.subplot(2,2,3)\n",
        "plt.plot(testY_back[seq_length:,2], color = 'blue')\n",
        "plt.plot(testY_predict_back[:,2], color = 'red')\n",
        "plt.legend(['Real SOC','Predicted SOC'])\n",
        "\n",
        "plt.subplot(2,2,4)\n",
        "plt.plot(testY_back[seq_length:,3], color = 'blue')\n",
        "plt.plot(testY_predict_back[:,3], color = 'red')\n",
        "plt.legend(['Real Voltage','Predicted Voltage'])\n",
        "\n",
        "\n",
        "error_current_1 = trainY_back[:,0] - trainY_predict_back[:,0]\n",
        "error_temp_1 = trainY_back[:,1] - trainY_predict_back[:,1]\n",
        "error_soc_1 = trainY_back[:,2] - trainY_predict_back[:,2]\n",
        "error_voltage_1 = trainY_back[:,3] - trainY_predict_back[:,3]\n",
        "\n",
        "plt.figure(figsize = (10,5))\n",
        "plt.subplot(2,2,1)\n",
        "plt.plot(error_current_1, color = 'green')\n",
        "plt.legend(['Current Error'])\n",
        "\n",
        "plt.subplot(2,2,2)\n",
        "plt.plot(error_temp_1, color = 'green')\n",
        "plt.legend(['Temperature Error'])\n",
        "plt.ylim(-2, 2)\n",
        "\n",
        "plt.subplot(2,2,3)\n",
        "plt.plot(error_soc_1, color = 'green')\n",
        "plt.legend(['SOC Error'])\n",
        "plt.ylim(-10, 10)\n",
        "\n",
        "plt.subplot(2,2,4)\n",
        "plt.plot(error_voltage_1, color = 'green')\n",
        "plt.legend(['Voltage Error'])\n",
        "plt.ylim(-30, 30)\n",
        "\n"
      ],
      "metadata": {
        "id": "hOViQgbHIZyq"
      },
      "execution_count": null,
      "outputs": []
    }
  ]
}